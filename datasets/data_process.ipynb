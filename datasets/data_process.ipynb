{
 "cells": [
  {
   "cell_type": "code",
   "execution_count": 3,
   "metadata": {},
   "outputs": [
    {
     "name": "stderr",
     "output_type": "stream",
     "text": [
      "100%|██████████| 3394/3394 [00:00<00:00, 57768.42it/s]\n"
     ]
    }
   ],
   "source": [
    "import json\n",
    "import os\n",
    "from tqdm import tqdm\n",
    "xml_folder_path = \"./PAGED/xml\"\n",
    "raw_data_path = \"./PAGED/raw_data.json\"\n",
    "xml_data_path = \"./PAGED/xml_data.json\"\n",
    "\n",
    "raw_data = json.load(open(raw_data_path, \"r\"))\n",
    "xml_data = {}\n",
    "for data in tqdm(raw_data):\n",
    "    file_index = data[\"file_index\"]\n",
    "    file_path = os.path.join(xml_folder_path, f\"{file_index}.xml\")\n",
    "    with open(file_path, \"r\") as f:\n",
    "        xml_data[file_index] = f.read()\n",
    "with open(xml_data_path, \"w\") as f:\n",
    "    json.dump(xml_data, f)"
   ]
  }
 ],
 "metadata": {
  "language_info": {
   "name": "python"
  }
 },
 "nbformat": 4,
 "nbformat_minor": 2
}
